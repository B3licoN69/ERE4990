{
 "cells": [
  {
   "cell_type": "code",
   "execution_count": 1,
   "id": "2875364e-0d2c-4cfd-b11c-64f6934b6e97",
   "metadata": {
    "tags": []
   },
   "outputs": [
    {
     "name": "stdin",
     "output_type": "stream",
     "text": [
      "Dice: Enter the number of dice you want to play, Dice must exceed 4.  6\n"
     ]
    },
    {
     "name": "stdout",
     "output_type": "stream",
     "text": [
      "Total Rolls: 6\n",
      "Average Roll: 1.6666666666666667\n",
      "Highest Roll: 3\n",
      "Gameplay History: [1, 1, 1, 2, 3, 2]\n"
     ]
    }
   ],
   "source": [
    "import random\n",
    "\n",
    "game_play = []\n",
    "total_rolls = []\n",
    "sides = 6\n",
    "\n",
    "dice = int(input(\"Dice: Enter the number of dice you want to play, Dice must exceed 4. \"))\n",
    "\n",
    "if dice <= 4:\n",
    "    print(\"You must enter a number higher than four. Try again!\")\n",
    "    quit()\n",
    "\n",
    "roll = []\n",
    "for _ in range(dice):\n",
    "    face = random.randint(1, sides)\n",
    "    roll.append(face)\n",
    "    total_rolls.append(face)\n",
    "\n",
    "average_roll = sum(total_rolls) / len(total_rolls)\n",
    "highest_roll = max(total_rolls)\n",
    "\n",
    "print(\"Total Rolls:\", len(total_rolls))\n",
    "print(\"Average Roll:\", average_roll)\n",
    "print(\"Highest Roll:\", highest_roll)\n",
    "print(\"Gameplay History:\", roll)"
   ]
  },
  {
   "cell_type": "code",
   "execution_count": null,
   "id": "313dccd3-e895-4c88-9883-2c7109bb58c0",
   "metadata": {},
   "outputs": [],
   "source": []
  }
 ],
 "metadata": {
  "kernelspec": {
   "display_name": "Python 3 (ipykernel)",
   "language": "python",
   "name": "python3"
  },
  "language_info": {
   "codemirror_mode": {
    "name": "ipython",
    "version": 3
   },
   "file_extension": ".py",
   "mimetype": "text/x-python",
   "name": "python",
   "nbconvert_exporter": "python",
   "pygments_lexer": "ipython3",
   "version": "3.11.5"
  }
 },
 "nbformat": 4,
 "nbformat_minor": 5
}
