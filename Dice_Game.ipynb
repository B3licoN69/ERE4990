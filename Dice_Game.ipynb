{
 "cells": [
  {
   "cell_type": "code",
   "execution_count": null,
   "id": "f136d290-72ed-45fd-a702-e808dc2a6e94",
   "metadata": {},
   "outputs": [],
   "source": [
    "import random\n",
    "\n",
    "game_Play = []\n",
    "total_Rolls = []\n",
    "average = []\n",
    "highest_Roll = []\n",
    "sides = 6\n",
    "\n",
    "\n",
    "\n",
    "\n",
    "dice = int(input(\"Dice: Enter the number of dice you want to play, Dice must exceed 4. \"))\n",
    "\n",
    "if (dice <= 4):\n",
    "    print(\"You must enter a number higher than zero. Try again! \")\n",
    "    quit()\n",
    "\n",
    "\n",
    "\n",
    "roll = []\n",
    "for i in range(0, dice):\n",
    "    face = random.randint(1,sides)\n",
    "    roll.append(face)\n",
    "\n",
    "for i in range(0, dice):\n",
    "    face = random.randint(1,sides)\n",
    "    total_Rolls.append(face)\n",
    "game_Play.append(dice)\n",
    "total_Rolls.append(sum(total_Rolls) / len(total_Rolls))\n",
    "highest_Roll.append(max(total_Rolls))\n",
    "\n",
    "print(\" Total Rolls: \", len(total_Rolls) - 1)\n",
    "print(\" Average Roll: \", sum(total_Rolls) / len(total_Rolls))\n",
    "print(\" Highest Roll: \", max(highest_Roll))\n",
    "print(\" Gameplay History: \", roll )\n"
   ]
  }
 ],
 "metadata": {
  "kernelspec": {
   "display_name": "",
   "name": ""
  },
  "language_info": {
   "name": ""
  }
 },
 "nbformat": 4,
 "nbformat_minor": 5
}
